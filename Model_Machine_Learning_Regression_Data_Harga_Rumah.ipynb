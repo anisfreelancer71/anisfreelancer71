{
  "nbformat": 4,
  "nbformat_minor": 0,
  "metadata": {
    "colab": {
      "private_outputs": true,
      "provenance": [],
      "cell_execution_strategy": "setup",
      "authorship_tag": "ABX9TyM9uwq1iDNfhP6uOm7OH7r8",
      "include_colab_link": true
    },
    "kernelspec": {
      "name": "python3",
      "display_name": "Python 3"
    },
    "language_info": {
      "name": "python"
    }
  },
  "cells": [
    {
      "cell_type": "markdown",
      "metadata": {
        "id": "view-in-github",
        "colab_type": "text"
      },
      "source": [
        "<a href=\"https://colab.research.google.com/github/anisfreelancer71/anisfreelancer71/blob/main/Model_Machine_Learning_Regression_Data_Harga_Rumah.ipynb\" target=\"_parent\"><img src=\"https://colab.research.google.com/assets/colab-badge.svg\" alt=\"Open In Colab\"/></a>"
      ]
    },
    {
      "cell_type": "markdown",
      "source": [
        "1. Mengumpulkan Data\n",
        "Cari dataset harga rumah. Dataset yang populer adalah Ames Housing Dataset atau Boston Housing Dataset.\n",
        "Dataset ini bisa diperoleh dari berbagai sumber seperti Kaggle, UCI Machine Learning Repository, atau sklearn.datasets."
      ],
      "metadata": {
        "id": "oBkOyc4REzuV"
      }
    },
    {
      "cell_type": "markdown",
      "source": [
        "2. Mengimpor Library yang Diperlukan\n",
        "Pastikan Anda mengimpor library Python yang dibutuhkan:"
      ],
      "metadata": {
        "id": "khWw6uMoE-fK"
      }
    },
    {
      "cell_type": "code",
      "source": [
        "import numpy as np\n",
        "import pandas as pd\n",
        "from sklearn.model_selection import train_test_split\n",
        "from sklearn.linear_model import LinearRegression\n",
        "from sklearn.metrics import mean_squared_error, r2_score\n",
        "import matplotlib.pyplot as plt\n",
        "import seaborn as sns\n"
      ],
      "metadata": {
        "id": "_Q9G0RHlE1rd"
      },
      "execution_count": null,
      "outputs": []
    },
    {
      "cell_type": "markdown",
      "source": [
        "3. Memuat Data\n",
        "Load dataset menggunakan Pandas."
      ],
      "metadata": {
        "id": "2xp1giX1FLOm"
      }
    },
    {
      "cell_type": "code",
      "source": [
        "from google.colab import drive\n",
        "drive.mount('/content/drive')\n"
      ],
      "metadata": {
        "id": "e5xqnNyQFC3f"
      },
      "execution_count": null,
      "outputs": []
    },
    {
      "cell_type": "code",
      "source": [
        "!ls \"/content/drive/My Drive/filecsv\""
      ],
      "metadata": {
        "id": "zq0s6lHiFqq5"
      },
      "execution_count": null,
      "outputs": []
    },
    {
      "cell_type": "code",
      "source": [
        "data_rumah = pd.read_csv(\"/content/drive/My Drive/filecsv/data_harga_rumah.csv\")\n",
        "data_rumah.head()"
      ],
      "metadata": {
        "id": "1BZvfwj6F6kH"
      },
      "execution_count": null,
      "outputs": []
    },
    {
      "cell_type": "code",
      "source": [
        "data_rumah.drop(['NAMA RUMAH'], axis=1, inplace=True)\n",
        "kolom_hapus = [f'Unnamed: {i}' for i in range(8, 1001)]\n",
        "data_rumah.drop(columns=kolom_hapus, inplace=True)\n",
        "\n",
        "data_rumah.head()"
      ],
      "metadata": {
        "id": "L261lQyBGf6T"
      },
      "execution_count": null,
      "outputs": []
    },
    {
      "cell_type": "markdown",
      "source": [
        "4. Eksplorasi Data\n",
        "Lakukan analisis eksplorasi data (EDA) untuk memahami struktur data dan mengidentifikasi fitur penting.\n",
        "\n",
        "Lihat informasi dataset:"
      ],
      "metadata": {
        "id": "VD_UckaWGqMo"
      }
    },
    {
      "cell_type": "code",
      "source": [
        "data_rumah.info()\n",
        "data_rumah.describe()\n",
        "data_rumah.isnull().sum()  # Cek missing data\n"
      ],
      "metadata": {
        "id": "zlAcusOPGrja"
      },
      "execution_count": null,
      "outputs": []
    },
    {
      "cell_type": "code",
      "source": [
        "data_rumah.drop(['NO'], axis=1, inplace=True)\n"
      ],
      "metadata": {
        "id": "A62IesDYPJVU"
      },
      "execution_count": null,
      "outputs": []
    },
    {
      "cell_type": "code",
      "source": [
        "sns.histplot(data_rumah['HARGA'], kde=True)\n",
        "plt.show()\n"
      ],
      "metadata": {
        "id": "4TjQZXZBHFd_"
      },
      "execution_count": null,
      "outputs": []
    },
    {
      "cell_type": "markdown",
      "source": [
        "5. Membersihkan Data\n",
        "Bersihkan data dari missing values atau outliers.\n",
        "\n",
        "Tangani missing values:"
      ],
      "metadata": {
        "id": "3w6WRlggHmwe"
      }
    },
    {
      "cell_type": "code",
      "source": [
        "data_rumah = data_rumah.fillna(data_rumah.median())  # Atau metode lain tergantung pada karakteristik data\n"
      ],
      "metadata": {
        "id": "0YF9LjjhHntV"
      },
      "execution_count": null,
      "outputs": []
    },
    {
      "cell_type": "markdown",
      "source": [
        "6. Memilih Fitur (Feature Selection)\n",
        "Pilih fitur yang akan digunakan dalam model.\n",
        "\n",
        "Misalnya, Anda mungkin ingin menggunakan variabel seperti ukuran rumah, jumlah kamar tidur, dan lokasi."
      ],
      "metadata": {
        "id": "qvOWAOTDIwAn"
      }
    },
    {
      "cell_type": "code",
      "source": [
        "X = data_rumah[['LB', 'LT', 'KT', 'KM','GRS']]  # Contoh fitur\n",
        "y = data_rumah['HARGA']  # Target variable\n"
      ],
      "metadata": {
        "id": "aJbhymt5IxKF"
      },
      "execution_count": null,
      "outputs": []
    },
    {
      "cell_type": "markdown",
      "source": [
        "7. Membagi Data: Training dan Testing\n",
        "Bagi dataset menjadi set pelatihan dan pengujian."
      ],
      "metadata": {
        "id": "1vLTdee6JdVN"
      }
    },
    {
      "cell_type": "code",
      "source": [
        "X_train, X_test, y_train, y_test = train_test_split(X, y, test_size=0.2, random_state=42)\n"
      ],
      "metadata": {
        "id": "ziBnY6kGJeFq"
      },
      "execution_count": null,
      "outputs": []
    },
    {
      "cell_type": "markdown",
      "source": [
        "8. Membangun Model Machine Learning (Linear Regression)\n",
        "Gunakan regresi linear sebagai model dasar:"
      ],
      "metadata": {
        "id": "LUCbHBuMJrby"
      }
    },
    {
      "cell_type": "code",
      "source": [
        "model = LinearRegression()\n",
        "model.fit(X_train, y_train)\n"
      ],
      "metadata": {
        "id": "XQAKchLMJsZ0"
      },
      "execution_count": null,
      "outputs": []
    },
    {
      "cell_type": "code",
      "source": [
        "from sklearn.ensemble import GradientBoostingRegressor\n",
        "\n",
        "# Inisialisasi model\n",
        "gb_model = GradientBoostingRegressor(n_estimators=100, random_state=42)\n",
        "\n",
        "# Latih model\n",
        "gb_model.fit(X_train, y_train)\n",
        "\n",
        "# Prediksi\n",
        "y_pred_gb = gb_model.predict(X_test)\n",
        "\n",
        "# Evaluasi\n",
        "mse_gb = mean_squared_error(y_test, y_pred_gb)\n",
        "r2_gb = r2_score(y_test, y_pred_gb)\n",
        "\n",
        "print(f'Gradient Boosting MSE: {mse_gb}')\n",
        "print(f'Gradient Boosting R-squared: {r2_gb}')\n"
      ],
      "metadata": {
        "id": "F84I-r-1SLE_"
      },
      "execution_count": null,
      "outputs": []
    },
    {
      "cell_type": "markdown",
      "source": [
        "9. Evaluasi Model\n",
        "Setelah model dilatih, evaluasi model menggunakan data pengujian."
      ],
      "metadata": {
        "id": "GoNtQL1lJ2WZ"
      }
    },
    {
      "cell_type": "markdown",
      "source": [
        "10. Visualisasi Hasil\n",
        "Plot hasil prediksi untuk membandingkan prediksi model dengan nilai aktual:"
      ],
      "metadata": {
        "id": "X3Zjt2gyKDDa"
      }
    },
    {
      "cell_type": "code",
      "source": [
        "plt.scatter(y_test, y_pred)\n",
        "plt.xlabel('Actual HARGA')\n",
        "plt.ylabel('Predicted HARGA')\n",
        "plt.title('Actual vs Predicted HARGA')\n",
        "plt.show()\n"
      ],
      "metadata": {
        "id": "sjS_yb3QKEDb"
      },
      "execution_count": null,
      "outputs": []
    },
    {
      "cell_type": "markdown",
      "source": [
        "11. Menyempurnakan Model\n",
        "Jika model belum optimal, Anda dapat mencoba berbagai langkah berikut:\n",
        "\n",
        "Feature Engineering: Buat fitur baru berdasarkan domain knowledge.\n",
        "Normalisasi Data: Standarisasi atau normalisasi fitur untuk meningkatkan performa model.\n",
        "Coba Model Lain: Coba model lain seperti Random Forest, Gradient Boosting, atau SVR."
      ],
      "metadata": {
        "id": "AfWy0X2uKY-L"
      }
    },
    {
      "cell_type": "markdown",
      "source": [
        "12. Deploy Model (Opsional)\n",
        "Setelah model memuaskan, Anda bisa deploy model menggunakan framework seperti Flask atau Streamlit untuk aplikasi web prediksi harga rumah.\n",
        "\n",
        "Contoh Kode Lengkap:"
      ],
      "metadata": {
        "id": "6bS0d4LXKhvn"
      }
    },
    {
      "cell_type": "code",
      "source": [
        "import numpy as np\n",
        "import pandas as pd\n",
        "from sklearn.model_selection import train_test_split\n",
        "from sklearn.linear_model import LinearRegression\n",
        "from sklearn.metrics import mean_squared_error, r2_score\n",
        "import matplotlib.pyplot as plt\n",
        "import seaborn as sns\n",
        "\n",
        "# Load dataset\n",
        "data_rumah = pd.read_csv(\"/content/drive/My Drive/filecsv/data_harga_rumah.csv\")\n",
        "\n",
        "# Periksa kolom dataset\n",
        "print(data_rumah.columns)  # Pastikan nama kolom cocok dengan kode\n",
        "\n",
        "# Eksplorasi data\n",
        "print(data_rumah.info())\n",
        "print(data_rumah.describe())\n",
        "\n",
        "# Cek missing values\n",
        "print(data_rumah.isnull().sum())\n",
        "\n",
        "# Membersihkan data (contoh: isi missing value)\n",
        "# Untuk kolom numerik\n",
        "data_rumah.drop(['NAMA RUMAH'], axis=1, inplace=True)\n",
        "kolom_hapus = [f'Unnamed: {i}' for i in range(8, 1001)]\n",
        "data_rumah.drop(columns=kolom_hapus, inplace=True)\n",
        "\n",
        "data_rumah.head()\n",
        "data_rumah = data_rumah.fillna(data_rumah.median())\n",
        "data_rumah.drop(['NO'], axis=1, inplace=True)\n",
        "\n",
        "# Untuk kolom kategorikal, jika ada\n",
        "# data_rumah['GRS'] = data_rumah['GRS'].fillna(data_rumah['GRS'].mode()[0])\n",
        "\n",
        "# Pilih fitur dan target\n",
        "X = data_rumah[['LB', 'LT', 'KT', 'KM', 'GRS']]  # Pastikan nama kolom sesuai\n",
        "y = data_rumah['HARGA']  # Target variable\n",
        "\n",
        "# Bagi data\n",
        "X_train, X_test, y_train, y_test = train_test_split(X, y, test_size=0.2, random_state=42)\n",
        "\n",
        "# Inisialisasi dan latih model\n",
        "model = LinearRegression()\n",
        "model.fit(X_train, y_train)\n",
        "\n",
        "# Prediksi\n",
        "y_pred = model.predict(X_test)\n",
        "\n",
        "# Evaluasi\n",
        "mse = mean_squared_error(y_test, y_pred)\n",
        "r2 = r2_score(y_test, y_pred)\n",
        "\n",
        "print(f'MSE: {mse}')\n",
        "print(f'R-squared: {r2}')\n",
        "\n",
        "# Plot hasil prediksi vs aktual\n",
        "plt.scatter(y_test, y_pred)\n",
        "plt.xlabel('Actual HARGA')\n",
        "plt.ylabel('Predicted HARGA')\n",
        "plt.title('Actual vs Predicted HARGA')\n",
        "plt.show()\n",
        "\n"
      ],
      "metadata": {
        "id": "jgNo7dRsKaB0"
      },
      "execution_count": null,
      "outputs": []
    },
    {
      "cell_type": "code",
      "source": [
        "from sklearn.preprocessing import StandardScaler\n",
        "\n",
        "# Inisialisasi scaler\n",
        "scaler = StandardScaler()\n",
        "\n",
        "# Normalisasi fitur\n",
        "X_scaled = scaler.fit_transform(X)\n",
        "\n",
        "# Bagi data lagi setelah normalisasi\n",
        "X_train, X_test, y_train, y_test = train_test_split(X_scaled, y, test_size=0.2, random_state=42)\n",
        "\n"
      ],
      "metadata": {
        "id": "DrO9QHY9NtXE"
      },
      "execution_count": null,
      "outputs": []
    },
    {
      "cell_type": "markdown",
      "source": [
        "1. Menyimpan Model\n",
        "Setelah model dilatih, Anda dapat menyimpannya menggunakan joblib atau pickle untuk digunakan nanti."
      ],
      "metadata": {
        "id": "5si1IemmVYb-"
      }
    },
    {
      "cell_type": "code",
      "source": [
        "import joblib\n",
        "\n",
        "# Simpan model\n",
        "joblib.dump(gb_model, 'gradient_boosting_model.pkl')\n",
        "\n",
        "# Untuk memuat model di tempat lain\n",
        "loaded_model = joblib.load('gradient_boosting_model.pkl')\n"
      ],
      "metadata": {
        "id": "LfZKHSGBVZnF"
      },
      "execution_count": null,
      "outputs": []
    },
    {
      "cell_type": "markdown",
      "source": [
        "2. Membuat API untuk Model\n",
        "Anda bisa membuat API menggunakan Flask (untuk Python) agar model dapat diakses secara online. Berikut adalah contoh kode sederhana untuk membuat API dengan Flask.\n",
        "\n",
        "Install Flask:"
      ],
      "metadata": {
        "id": "RDXzjF9nVjCd"
      }
    },
    {
      "cell_type": "code",
      "source": [
        "pip install Flask\n"
      ],
      "metadata": {
        "id": "osaEXvSCVj-B"
      },
      "execution_count": null,
      "outputs": []
    },
    {
      "cell_type": "code",
      "source": [
        "pip install gunicorn\n"
      ],
      "metadata": {
        "id": "xvkTxpLfeBIz"
      },
      "execution_count": null,
      "outputs": []
    },
    {
      "cell_type": "markdown",
      "source": [
        "Kode API Flask:"
      ],
      "metadata": {
        "id": "L8KNHkA6VwYB"
      }
    },
    {
      "cell_type": "markdown",
      "source": [
        "Cara Menggunakan API:\n",
        "\n",
        "Kirim permintaan POST ke http://localhost:8888/predict dengan payload JSON berisi fitur:"
      ],
      "metadata": {
        "id": "4853wsQGWHc1"
      }
    },
    {
      "cell_type": "markdown",
      "source": [
        "3. Menyiapkan Lingkungan Produksi\n",
        "Hosting: Untuk deployment di cloud, Anda dapat menggunakan platform seperti Heroku, AWS, Google Cloud Platform, atau Azure.\n",
        "Docker: Untuk membuat lingkungan yang konsisten, Anda bisa menggunakan Docker untuk mengemas aplikasi dan model.\n",
        "Contoh Dockerfile:"
      ],
      "metadata": {
        "id": "CtlHFrWaWRpv"
      }
    },
    {
      "cell_type": "markdown",
      "source": [
        "Menggunakan Model dalam Aplikasi\n",
        "Setelah API aktif, Anda bisa mengakses model dari aplikasi lain (web atau mobile) dengan melakukan permintaan HTTP ke endpoint yang sudah disediakan.\n",
        "\n",
        "Contoh Permintaan HTTP dari Python:"
      ],
      "metadata": {
        "id": "t_C8AbhuWeYB"
      }
    },
    {
      "cell_type": "markdown",
      "source": [
        "Ringkasan\n",
        "Menyimpan Model: Gunakan joblib atau pickle untuk menyimpan model.\n",
        "API dengan Flask: Buat API untuk mengakses model.\n",
        "Lingkungan Produksi: Gunakan platform cloud atau Docker untuk deploy aplikasi.\n",
        "Menggunakan API: Integrasikan API ke aplikasi untuk mendapatkan prediksi.\n",
        "Dengan langkah-langkah ini, Anda dapat mempermudah akses model dan integrasi ke aplikasi produksi. Jika ada pertanyaan lebih lanjut atau membutuhkan bantuan khusus, beri tahu saya!"
      ],
      "metadata": {
        "id": "TfgMjyKGWms5"
      }
    },
    {
      "cell_type": "code",
      "source": [],
      "metadata": {
        "id": "Jpq27znRWh7c"
      },
      "execution_count": null,
      "outputs": []
    }
  ]
}